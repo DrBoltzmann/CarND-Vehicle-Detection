{
 "cells": [
  {
   "cell_type": "markdown",
   "metadata": {},
   "source": [
    "## Vehicle Detection\n",
    "### A machine vision solution to identify and track vehicle from a dashboard camera video stream.\n",
    "\n",
    "---\n",
    "\n",
    "**Summary**\n",
    "\n",
    "The solution process includes the following logic:\n",
    "\n",
    "* Use Histogram of Oriented Gradients (HOG) to perform feature extraction on a labeled training set of images.\n",
    "* Train a Linear Support Vector Machine (SVM) classifier based on the training data.\n",
    "* Apply color transforms and append binned color features, color histograms, etc. to the HOG feature vector to improve performance. \n",
    "* Data is normalized, then randomized selections for training and testing data are defined.\n",
    "* Implement a sliding-window technique and use your trained classifier to search for vehicles in images.\n",
    "* Run your pipeline on a video stream (start with the test_video.mp4 and later implement on full project_video.mp4) and create a heat map of recurring detections frame by frame to reject outliers and follow detected vehicles.\n",
    "* Estimate a bounding box for vehicles detected."
   ]
  },
  {
   "cell_type": "markdown",
   "metadata": {},
   "source": [
    "* Perform a Histogram of Oriented Gradients (HOG) feature extraction on a labeled training set of images and train a classifier Linear SVM classifier\n",
    "\n",
    "Optionally, you can also apply a color transform and append binned color features, as well as histograms of color, to your HOG feature vector.\n",
    "\n",
    "Note: for those first two steps don't forget to normalize your features and randomize a selection for training and testing.\n",
    "\n",
    "Implement a sliding-window technique and use your trained classifier to search for vehicles in images.\n",
    "\n",
    "Run your pipeline on a video stream (start with the test_video.mp4 and later implement on full project_video.mp4) and create a heat map of recurring detections frame by frame to reject outliers and follow detected vehicles.\n",
    "\n",
    "Estimate a bounding box for vehicles detected."
   ]
  },
  {
   "cell_type": "code",
   "execution_count": null,
   "metadata": {},
   "outputs": [],
   "source": []
  }
 ],
 "metadata": {
  "kernelspec": {
   "display_name": "Python 3",
   "language": "python",
   "name": "python3"
  },
  "language_info": {
   "codemirror_mode": {
    "name": "ipython",
    "version": 3
   },
   "file_extension": ".py",
   "mimetype": "text/x-python",
   "name": "python",
   "nbconvert_exporter": "python",
   "pygments_lexer": "ipython3",
   "version": "3.5.2"
  },
  "widgets": {
   "state": {},
   "version": "1.1.2"
  }
 },
 "nbformat": 4,
 "nbformat_minor": 2
}
