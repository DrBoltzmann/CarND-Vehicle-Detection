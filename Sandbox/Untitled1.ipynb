{
 "cells": [
  {
   "cell_type": "code",
   "execution_count": null,
   "metadata": {},
   "outputs": [],
   "source": [
    "car_images = glob.glob(\"vehicles/*/*.*\")\n",
    "noncar_images = glob.glob(\"non-vehicles/*/*.*\")\n",
    "shuffle(car_images)\n",
    "shuffle(noncar_images)\n",
    "print(len(car_images), '         images of vehicles')\n",
    "print(len(noncar_images), '        images of non-vehicles')\n",
    "example_img = mpimg.imread(car_images[0])\n",
    "print(example_img.shape, '  image shape')\n",
    "print(example_img.dtype, '      image data type')"
   ]
  },
  {
   "cell_type": "code",
   "execution_count": null,
   "metadata": {},
   "outputs": [],
   "source": [
    "\n",
    "fig, axs  =  plt.subplots (1,8, figsize=(16, 2))\n",
    "\n",
    "for i in np.arange(4):\n",
    "    img = mpimg.imread(car_images[np.random.randint(0,len(car_images))])\n",
    "    axs[i].axis('off')\n",
    "    axs[i].set_title('car', fontsize=15)\n",
    "    axs[i].imshow(img)\n",
    "for i in np.arange(4,8):\n",
    "    img = mpimg.imread(noncar_images[np.random.randint(0,len(noncar_images))])\n",
    "    axs[i].axis('off')\n",
    "    axs[i].set_title('non car', fontsize=15)\n",
    "    axs[i].imshow(img)\n",
    "    plt.savefig('output_images/data_visualization.png', \n",
    "            bbox_inches=\"tight\")"
   ]
  },
  {
   "cell_type": "code",
   "execution_count": null,
   "metadata": {},
   "outputs": [],
   "source": [
    "# HOG = True\n",
    "\n",
    "car_features = extract_features(cars, hog_feat=True)\n",
    "notcar_features = extract_features(notcars, hog_feat=True)\n",
    "\n",
    "# Create an array stack of feature vectors\n",
    "X = np.vstack((car_features, notcar_features)).astype(np.float64)\n",
    "# Fit a per-column scaler\n",
    "\n",
    "X_scaler = StandardScaler().fit(X)\n",
    "# Apply the scaler to X\n",
    "scaled_X = X_scaler.transform(X)\n",
    "\n",
    "# Define the labels vector\n",
    "y = np.hstack((np.ones(len(car_features)), np.zeros(len(notcar_features))))\n",
    "\n",
    "# Split up data into randomized training and test sets\n",
    "rand_state = np.random.randint(0, 100)\n",
    "\n",
    "X_train, X_test, y_train, y_test = train_test_split(scaled_X, y,\n",
    "                                                    test_size=0.2,\n",
    "                                                    random_state=rand_state)\n",
    "# Use a linear SVC\n",
    "svc = LinearSVC()\n",
    "# Check the training time for the SVC\n",
    "t=time.time()\n",
    "svc.fit(X_train, y_train)\n",
    "t2 = time.time()\n",
    "print(round(t2-t, 2), 'seconds to train SVC.')\n",
    "print('Using:', orient, 'orientations', pix_per_cell,\n",
    "    'pixels per cell and', cell_per_block, 'cells per block')\n",
    "print('Feature vector length:', len(X_train[0]))"
   ]
  },
  {
   "cell_type": "code",
   "execution_count": null,
   "metadata": {},
   "outputs": [],
   "source": [
    "print('Test Accuracy of SVC: {0:.2f}%'.format(round(svc.score(X_test, y_test)*100, 4)))\n",
    "print()\n",
    "t = time.time()\n",
    "print('  Predictions:', svc.predict(X_test[0:10]))\n",
    "print('       Labels:', y_test[0:10])\n",
    "t2 = time.time()\n",
    "print()\n",
    "print(round(t2-t, 5), 'seconds to predict 10 labels with SVC.')"
   ]
  },
  {
   "cell_type": "code",
   "execution_count": null,
   "metadata": {},
   "outputs": [],
   "source": [
    "# Color histogram and SVC\n",
    "\n",
    "car_features = extract_features(cars, spatial_feat=True, hist_feat=True)\n",
    "notcar_features = extract_features(notcars, spatial_feat=True, hist_feat=True)\n",
    "\n",
    "# Create an array stack of feature vectors\n",
    "X = np.vstack((car_features, notcar_features)).astype(np.float64)\n",
    "# Fit a per-column scaler\n",
    "X_scaler = StandardScaler().fit(X)\n",
    "# Apply the scaler to X\n",
    "scaled_X = X_scaler.transform(X)\n",
    "\n",
    "# Define the labels vector\n",
    "y = np.hstack((np.ones(len(car_features)), np.zeros(len(notcar_features))))\n",
    "\n",
    "# Split up data into randomized training and test sets\n",
    "rand_state = np.random.randint(0, 100)\n",
    "X_train, X_test, y_train, y_test = train_test_split(scaled_X, y,\n",
    "                                                    test_size=0.2,\n",
    "                                                    random_state=rand_state)\n",
    "# Use a linear SVC\n",
    "svc = LinearSVC()\n",
    "# Check the training time for the SVC\n",
    "t=time.time()\n",
    "svc.fit(X_train, y_train)\n",
    "t2 = time.time()\n",
    "print(round(t2-t, 2), 'seconds to train SVC.')\n",
    "print('Using:', orient, 'orientations', pix_per_cell,\n",
    "    'pixels per cell and', cell_per_block, 'cells per block')\n",
    "print('Feature vector length:', len(X_train[0]))"
   ]
  },
  {
   "cell_type": "code",
   "execution_count": null,
   "metadata": {},
   "outputs": [],
   "source": [
    "print('Test Accuracy of SVC: {0:.2f}%'.format(round(svc.score(X_test, y_test)*100, 4)))\n",
    "print()\n",
    "t = time.time()\n",
    "print('  Predictions:', svc.predict(X_test[0:10]))\n",
    "print('       Labels:', y_test[0:10])\n",
    "t2 = time.time()\n",
    "print()\n",
    "print(round(t2-t, 5), 'seconds to predict 10 labels with SVC.')"
   ]
  }
 ],
 "metadata": {
  "kernelspec": {
   "display_name": "Python 3",
   "language": "python",
   "name": "python3"
  },
  "language_info": {
   "codemirror_mode": {
    "name": "ipython",
    "version": 3
   },
   "file_extension": ".py",
   "mimetype": "text/x-python",
   "name": "python",
   "nbconvert_exporter": "python",
   "pygments_lexer": "ipython3",
   "version": "3.5.2"
  },
  "widgets": {
   "state": {},
   "version": "1.1.2"
  }
 },
 "nbformat": 4,
 "nbformat_minor": 2
}
